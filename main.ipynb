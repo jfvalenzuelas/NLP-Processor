{
 "cells": [
  {
   "cell_type": "code",
   "execution_count": 1,
   "metadata": {},
   "outputs": [],
   "source": [
    "import requests\n",
    "import utils\n",
    "\n",
    "url, user, password = utils.loadAccessData(\"ServiceNow\");\n",
    "headers = {\"Content-Type\":\"application/json\",\"Accept\":\"application/json\"}\n",
    "\n",
    "url += '/tweets?processed=false&language=en&topic=corona_virus'\n",
    "\n",
    "response = requests.get(url, auth=(user, password), headers=headers, json={\"system\": \"JFVS1993\"})\n",
    "\n",
    "if response.status_code != 200: \n",
    "    print('Status:', response.status_code, 'Headers:', response.headers, 'Error Response:',response.json())\n",
    "\n",
    "data = response.json()\n",
    "    "
   ]
  },
  {
   "cell_type": "code",
   "execution_count": 29,
   "metadata": {},
   "outputs": [
    {
     "name": "stdout",
     "output_type": "stream",
     "text": [
      "call Corona virus chinese Virus Racist https://t.co/or9pjah020\n",
      "call Corona virus chinese Virus Racist https://t.co/or9pjah020\n"
     ]
    }
   ],
   "source": [
    "import spacy\n",
    "\n",
    "nlp = spacy.load(\"en_core_web_sm\")\n",
    "\n",
    "tweets = data[\"result\"][\"tweets\"][:2]\n",
    "\n",
    "for tweet in tweets:\n",
    "    processing_text = tweet[\"original_text\"].strip()\n",
    "    processing_text = processing_text.replace(\",\", \"\");\n",
    "    processing_text = processing_text.replace('“', \"\");\n",
    "    processing_text = processing_text.replace('”', \"\");\n",
    "    processing_text = processing_text.replace('?', \"\");\n",
    "    \n",
    "    doc = nlp(processing_text)\n",
    "    new_text = \"\"\n",
    "    for token in doc:\n",
    "        if not(token.is_stop):\n",
    "            new_text += token.lemma_+\" \"\n",
    "    print(new_text.strip())\n",
    "\n"
   ]
  },
  {
   "cell_type": "code",
   "execution_count": null,
   "metadata": {},
   "outputs": [],
   "source": []
  }
 ],
 "metadata": {
  "kernelspec": {
   "display_name": "Python 3",
   "language": "python",
   "name": "python3"
  },
  "language_info": {
   "codemirror_mode": {
    "name": "ipython",
    "version": 3
   },
   "file_extension": ".py",
   "mimetype": "text/x-python",
   "name": "python",
   "nbconvert_exporter": "python",
   "pygments_lexer": "ipython3",
   "version": "3.7.7"
  }
 },
 "nbformat": 4,
 "nbformat_minor": 4
}
